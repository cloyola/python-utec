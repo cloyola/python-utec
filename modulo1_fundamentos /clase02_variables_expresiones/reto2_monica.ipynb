#Pedir el ingreso mensual, edad y el valor del inmueble.
monthly_income = int(input("Ingrese su ingreso mensual: "))
age = int(input("Ingrese su edad: "))
value_of_the_property = int(input("Ingrese el valor del inmueble: "))

#Calcular la cuota mensual (crédito a 20 años, tasa fija de 6% anual).
monthly_instalment = round( value_of_the_property * (1 + 0.06) / (20 * 12), 2 )

#Evaluar si la cuota no supera el 30% del ingreso mensual.
if (monthly_instalment < (monthly_income * 0.3)) :
  couta_exceed = False
else:
  couta_exceed = True

#Validar que la edad + plazo del crédito no supere 70 años.
if (age + 20 <= 70) :
  age_exceed = False
else:
  age_exceed = True

#Validar si no cumplio uno de los criterios
if couta_exceed or age_exceed:
  result = "No califica"
else:
  result = "Califica"

#Llevar el historial de evaluaciones realizadas (usando una lista).
historial_simulaciones = []
resultado = f"Ingreso: {monthly_income}. Edad: {age}. Valor: {value_of_the_property}. Cuota: {monthly_instalment}. Resultado: {result}"
historial_simulaciones.append(resultado)
print(historial_simulaciones)
