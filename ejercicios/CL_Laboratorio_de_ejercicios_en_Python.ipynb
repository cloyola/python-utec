{
  "nbformat": 4,
  "nbformat_minor": 0,
  "metadata": {
    "colab": {
      "provenance": [],
      "include_colab_link": true
    },
    "kernelspec": {
      "name": "python3",
      "display_name": "Python 3"
    },
    "language_info": {
      "name": "python"
    }
  },
  "cells": [
    {
      "cell_type": "markdown",
      "metadata": {
        "id": "view-in-github",
        "colab_type": "text"
      },
      "source": [
        "<a href=\"https://colab.research.google.com/github/cloyola/python-utec/blob/main/ejercicios/CL_Laboratorio_de_ejercicios_en_Python.ipynb\" target=\"_parent\"><img src=\"https://colab.research.google.com/assets/colab-badge.svg\" alt=\"Open In Colab\"/></a>"
      ]
    },
    {
      "cell_type": "markdown",
      "source": [
        "# Listas"
      ],
      "metadata": {
        "id": "NC_iRWcEhNSv"
      }
    },
    {
      "cell_type": "markdown",
      "source": [
        "Ejercicio 1\n",
        "\n",
        "Crear una lista con los nombres de 5 bancos."
      ],
      "metadata": {
        "id": "IxkzijV9gnqx"
      }
    },
    {
      "cell_type": "code",
      "source": [
        "banks = [\"BCP\",\"BBVA\", \"Interbank\", \"Scotiabank\", \"Pichincha\"]"
      ],
      "metadata": {
        "id": "wXROWSyPTIV1"
      },
      "execution_count": null,
      "outputs": []
    },
    {
      "cell_type": "markdown",
      "source": [
        "Ejercicio 2\n",
        "\n",
        "Acceder al tercer banco de la lista."
      ],
      "metadata": {
        "id": "2d57HxBKgtdO"
      }
    },
    {
      "cell_type": "code",
      "source": [
        "print (banks[2])"
      ],
      "metadata": {
        "colab": {
          "base_uri": "https://localhost:8080/"
        },
        "id": "YhrVo3QATUZu",
        "outputId": "baf46260-4392-4988-ec09-cfe52fba8327"
      },
      "execution_count": null,
      "outputs": [
        {
          "output_type": "stream",
          "name": "stdout",
          "text": [
            "Interbank\n"
          ]
        }
      ]
    },
    {
      "cell_type": "markdown",
      "source": [
        "Ejercicio 3\n",
        "\n",
        "Agregar un nuevo banco a la lista."
      ],
      "metadata": {
        "id": "r3av9R2Ygv2T"
      }
    },
    {
      "cell_type": "code",
      "source": [
        "banks.append(\"Comercio\")\n",
        "print (banks)"
      ],
      "metadata": {
        "colab": {
          "base_uri": "https://localhost:8080/"
        },
        "id": "piHCzkUgTa-4",
        "outputId": "cdb490a4-148f-4c22-935e-3cd0cc37165e"
      },
      "execution_count": null,
      "outputs": [
        {
          "output_type": "stream",
          "name": "stdout",
          "text": [
            "['BCP', 'BBVA', 'Interbank', 'Scotiabank', 'Pichincha', 'Comercio']\n"
          ]
        }
      ]
    },
    {
      "cell_type": "markdown",
      "source": [
        "Ejercicio 4\n",
        "\n",
        "Eliminar el segundo banco."
      ],
      "metadata": {
        "id": "mCi9Qu0lhA7E"
      }
    },
    {
      "cell_type": "code",
      "source": [
        "del banks[1]\n",
        "print (banks)"
      ],
      "metadata": {
        "colab": {
          "base_uri": "https://localhost:8080/"
        },
        "id": "kqTwdzB9TjLI",
        "outputId": "99a6a636-dced-4d9c-855c-76e4154a6054"
      },
      "execution_count": null,
      "outputs": [
        {
          "output_type": "stream",
          "name": "stdout",
          "text": [
            "['BCP', 'Interbank', 'Scotiabank', 'Pichincha', 'Comercio']\n"
          ]
        }
      ]
    },
    {
      "cell_type": "markdown",
      "source": [
        "Ejercicio 5\n",
        "\n",
        "Ordenar alfabéticamente los bancos."
      ],
      "metadata": {
        "id": "he1Ai2YahGpE"
      }
    },
    {
      "cell_type": "code",
      "source": [
        "banks.sort()\n",
        "print (banks)"
      ],
      "metadata": {
        "colab": {
          "base_uri": "https://localhost:8080/"
        },
        "id": "WW6PtHiTUAZc",
        "outputId": "d805dcb1-ced1-40ae-90ae-9542a52bf7f5"
      },
      "execution_count": null,
      "outputs": [
        {
          "output_type": "stream",
          "name": "stdout",
          "text": [
            "['BCP', 'Comercio', 'Interbank', 'Pichincha', 'Scotiabank']\n"
          ]
        }
      ]
    },
    {
      "cell_type": "markdown",
      "source": [
        "# Condicionales IF, ELIF, ELSE"
      ],
      "metadata": {
        "id": "VpT6gNZ2hj1O"
      }
    },
    {
      "cell_type": "markdown",
      "source": [
        "Ejercicio 1\n",
        "\n",
        "Verificar si un cliente tiene ingreso > 3000."
      ],
      "metadata": {
        "id": "kv91XOyphovd"
      }
    },
    {
      "cell_type": "code",
      "source": [
        "income = int(input(\"Ingrese su ingreso: \"))\n",
        "if income > 3000:\n",
        "  print(\"Tiene ingreso mayor a 3000 soles\")\n",
        "else:\n",
        "  print(\"Tiene ingreso menor a 3000 soles\")"
      ],
      "metadata": {
        "colab": {
          "base_uri": "https://localhost:8080/"
        },
        "id": "VoeIZRCBUPln",
        "outputId": "9bb79b52-82ba-43fb-aa2f-713868cf1114"
      },
      "execution_count": null,
      "outputs": [
        {
          "output_type": "stream",
          "name": "stdout",
          "text": [
            "Ingrese su ingreso: 3500\n",
            "Tiene ingreso mayor a 3000 soles\n"
          ]
        }
      ]
    },
    {
      "cell_type": "markdown",
      "source": [
        "Ejercicio 2\n",
        "\n",
        "Evaluar edad para otorgar tarjeta de crédito."
      ],
      "metadata": {
        "id": "n1X-A7oNhr4z"
      }
    },
    {
      "cell_type": "code",
      "source": [
        "age = int(input(\"Ingrese su edad: \"))\n",
        "if age >= 18:\n",
        "  print(\"Puede otorgar tarjeta de crédito\")\n",
        "else:\n",
        "  print(\"No puede otorgar tarjeta de crédito\")"
      ],
      "metadata": {
        "colab": {
          "base_uri": "https://localhost:8080/"
        },
        "id": "bKU9eE-uUUcA",
        "outputId": "fe17964d-7bb2-4211-e650-534dc086dc0c"
      },
      "execution_count": null,
      "outputs": [
        {
          "output_type": "stream",
          "name": "stdout",
          "text": [
            "Ingrese su edad: 20\n",
            "Puede otorgar tarjeta de crédito\n"
          ]
        }
      ]
    },
    {
      "cell_type": "markdown",
      "source": [
        "Ejercicio 3\n",
        "\n",
        "Evaluar un score de crédito."
      ],
      "metadata": {
        "id": "PiDQUQ05htq2"
      }
    },
    {
      "cell_type": "code",
      "source": [
        "if (age >= 18) and (income > 3000):\n",
        "  print(\"Puede otorgar tarjeta de crédito\")"
      ],
      "metadata": {
        "id": "PbeQeNx1UdHw"
      },
      "execution_count": null,
      "outputs": []
    },
    {
      "cell_type": "markdown",
      "source": [
        "Ejercicio 4\n",
        "\n",
        "Verificar si una cuenta tiene saldo negativo."
      ],
      "metadata": {
        "id": "xoT9xGBph1M_"
      }
    },
    {
      "cell_type": "code",
      "source": [
        "saldo = int(input(\"Ingrese su saldo: \"))\n",
        "if saldo < 0:\n",
        "  print(\"Tiene saldo negativo\")\n",
        "else:\n",
        "  print(\"No tiene saldo negativo\")"
      ],
      "metadata": {
        "id": "ffrldn9YdyHe"
      },
      "execution_count": null,
      "outputs": []
    },
    {
      "cell_type": "markdown",
      "source": [
        "Ejercicio 5\n",
        "\n",
        "Comparar dos tasas de interés."
      ],
      "metadata": {
        "id": "hLB_ZRjth5cJ"
      }
    },
    {
      "cell_type": "code",
      "source": [
        "rate1 = float(input(\"Ingrese la primera tasa de interés: \"))\n",
        "rate2 = float(input(\"Ingrese la segunda tasa de interés: \"))\n",
        "if rate1 > rate2:\n",
        "  print(\"La primera tasa de interés es mayor\")\n",
        "elif rate1 < rate2:\n",
        "  print(\"La segunda tasa de interés es mayor\")\n",
        "else:\n",
        "  print(\"Las tasas de interés son iguales\")"
      ],
      "metadata": {
        "id": "4Q8gwsA-d-PE"
      },
      "execution_count": null,
      "outputs": []
    },
    {
      "cell_type": "markdown",
      "source": [
        "Ejercicio 6\n",
        "\n",
        "Evaluar si un cliente tiene más de 3 productos financieros."
      ],
      "metadata": {
        "id": "ORVVt26mh8dt"
      }
    },
    {
      "cell_type": "code",
      "source": [
        "quantity = int(input(\"Ingrese la cantidad de productos financieros: \"))\n",
        "if quantity > 3:\n",
        "  print(\"El cliente tiene más de 3 productos financieros\")\n",
        "else:\n",
        "  print(\"El cliente no tiene más de 3 productos financieros\")"
      ],
      "metadata": {
        "id": "OoyhhRa5eD2x"
      },
      "execution_count": null,
      "outputs": []
    },
    {
      "cell_type": "markdown",
      "source": [
        "Ejercicio 7\n",
        "\n",
        "Determinar si un monto depositado supera los 10,000."
      ],
      "metadata": {
        "id": "naW4x0QLh_SV"
      }
    },
    {
      "cell_type": "code",
      "source": [
        "deposit = int(input(\"Ingrese el monto depositado: \"))\n",
        "if deposit > 10000:\n",
        "  print(\"El monto depositado supera los 10,000 soles\")"
      ],
      "metadata": {
        "colab": {
          "base_uri": "https://localhost:8080/"
        },
        "id": "x9ax0dTPfL1m",
        "outputId": "08bad364-6ca6-4000-c3fc-dcb60a4019d5"
      },
      "execution_count": null,
      "outputs": [
        {
          "output_type": "stream",
          "name": "stdout",
          "text": [
            "Ingrese el monto depositado: 12000\n",
            "El monto depositado supera los 10,000 soles\n"
          ]
        }
      ]
    },
    {
      "cell_type": "markdown",
      "source": [
        "# **Diccionarios**"
      ],
      "metadata": {
        "id": "V7WW7fIGioVg"
      }
    },
    {
      "cell_type": "markdown",
      "source": [
        "Ejercicio 1\n",
        "\n",
        "Crear un diccionario con datos de un cliente."
      ],
      "metadata": {
        "id": "CHwNqNtNisgi"
      }
    },
    {
      "cell_type": "code",
      "source": [
        "cliente = {\"nombre\": \"Juan\", \"edad\": 30, \"saldo\": 5000}"
      ],
      "metadata": {
        "id": "opHdaa_0fOU8"
      },
      "execution_count": null,
      "outputs": []
    },
    {
      "cell_type": "markdown",
      "source": [
        "Ejercicio 2\n",
        "\n",
        "Acceder al saldo del cliente."
      ],
      "metadata": {
        "id": "y79prRhxivr3"
      }
    },
    {
      "cell_type": "code",
      "source": [
        "print(cliente[\"saldo\"])"
      ],
      "metadata": {
        "colab": {
          "base_uri": "https://localhost:8080/"
        },
        "id": "9l1vbJYSg0RC",
        "outputId": "8761c914-f4b9-4db6-adc8-4ea3732f2f0a"
      },
      "execution_count": null,
      "outputs": [
        {
          "output_type": "stream",
          "name": "stdout",
          "text": [
            "5000\n"
          ]
        }
      ]
    },
    {
      "cell_type": "markdown",
      "source": [
        "Ejercicio 3\n",
        "\n",
        "Modificar el saldo."
      ],
      "metadata": {
        "id": "WPMXW--eiy7n"
      }
    },
    {
      "cell_type": "code",
      "source": [
        "cliente[\"saldo\"] = 6000\n",
        "print(cliente[\"saldo\"])"
      ],
      "metadata": {
        "colab": {
          "base_uri": "https://localhost:8080/"
        },
        "id": "Q_5NSjAFhV2y",
        "outputId": "1efc121b-5f04-4b1e-bc79-cf8018945d84"
      },
      "execution_count": null,
      "outputs": [
        {
          "output_type": "stream",
          "name": "stdout",
          "text": [
            "6000\n"
          ]
        }
      ]
    },
    {
      "cell_type": "markdown",
      "source": [
        "Ejercicio 4\n",
        "\n",
        "Agregar una nueva llave 'tarjeta_credito'."
      ],
      "metadata": {
        "id": "xN7U259_i0SD"
      }
    },
    {
      "cell_type": "code",
      "source": [
        "cliente[\"tarjeta_credito\"] = True\n",
        "print(cliente)"
      ],
      "metadata": {
        "colab": {
          "base_uri": "https://localhost:8080/"
        },
        "id": "m9WKHDAEhaif",
        "outputId": "e4f81f9d-110d-46c6-e9a0-da153be2a2f9"
      },
      "execution_count": null,
      "outputs": [
        {
          "output_type": "stream",
          "name": "stdout",
          "text": [
            "{'nombre': 'Juan', 'edad': 30, 'saldo': 6000, 'tarjeta_credito': True}\n"
          ]
        }
      ]
    },
    {
      "cell_type": "markdown",
      "source": [
        "Ejercicio 5\n",
        "\n",
        "Eliminar el nombre del cliente."
      ],
      "metadata": {
        "id": "EhsIdR2wi2MR"
      }
    },
    {
      "cell_type": "code",
      "source": [
        "del cliente[\"nombre\"]\n",
        "print(cliente)"
      ],
      "metadata": {
        "colab": {
          "base_uri": "https://localhost:8080/"
        },
        "id": "ovH9rplLhk8W",
        "outputId": "7263d921-ca72-4dd6-c2b6-1016700b4e29"
      },
      "execution_count": null,
      "outputs": [
        {
          "output_type": "stream",
          "name": "stdout",
          "text": [
            "{'edad': 30, 'saldo': 6000, 'tarjeta_credito': True}\n"
          ]
        }
      ]
    },
    {
      "cell_type": "markdown",
      "source": [
        "# FOR"
      ],
      "metadata": {
        "id": "SEZ-ENCGi45b"
      }
    },
    {
      "cell_type": "markdown",
      "source": [
        "Ejercicio 1\n",
        "\n",
        "Recorrer una lista de tasas de interés."
      ],
      "metadata": {
        "id": "UIibjV-Ti8kG"
      }
    },
    {
      "cell_type": "code",
      "source": [
        "tasa = [\"5%\", \"6%\", \"7%\", \"8%\", \"9%\"]\n",
        "for i in tasa:\n",
        "  print(i)"
      ],
      "metadata": {
        "colab": {
          "base_uri": "https://localhost:8080/"
        },
        "id": "ZSvlvPhtitiO",
        "outputId": "dc48dfc7-2dbc-40ab-9d6d-cc91d64a8fe9"
      },
      "execution_count": null,
      "outputs": [
        {
          "output_type": "stream",
          "name": "stdout",
          "text": [
            "5%\n",
            "6%\n",
            "7%\n",
            "8%\n",
            "9%\n"
          ]
        }
      ]
    },
    {
      "cell_type": "markdown",
      "source": [
        "Ejercicio 2\n",
        "\n",
        "Sumar todos los saldos de una lista."
      ],
      "metadata": {
        "id": "xJcFuGJ-i_OZ"
      }
    },
    {
      "cell_type": "code",
      "source": [
        "saldos = [1000, 2000, 3000, 4000, 5000]\n",
        "suma = 0\n",
        "for i in saldos:\n",
        "  suma = suma + i\n",
        "print(suma)"
      ],
      "metadata": {
        "colab": {
          "base_uri": "https://localhost:8080/"
        },
        "id": "_fAMzi-wi6BN",
        "outputId": "7f638048-a26b-4436-e4fc-070e84402a79"
      },
      "execution_count": null,
      "outputs": [
        {
          "output_type": "stream",
          "name": "stdout",
          "text": [
            "15000\n"
          ]
        }
      ]
    },
    {
      "cell_type": "markdown",
      "source": [
        "Ejercicio 3\n",
        "\n",
        "Recorrer una lista de precios de productos ecommerce y aplicar descuento de 10%."
      ],
      "metadata": {
        "id": "VrNKApKTjBYl"
      }
    },
    {
      "cell_type": "code",
      "source": [
        "precios = [50, 100, 200, 300, 400, 500]\n",
        "for i in range(len(precios)):\n",
        "  precios[i] = precios[i] * 0.9\n",
        "print(precios)"
      ],
      "metadata": {
        "colab": {
          "base_uri": "https://localhost:8080/"
        },
        "id": "rjlOwQq7jfSA",
        "outputId": "d502b5ee-5bd4-4d4c-daee-8542af54c706"
      },
      "execution_count": null,
      "outputs": [
        {
          "output_type": "stream",
          "name": "stdout",
          "text": [
            "[45.0, 90.0, 180.0, 270.0, 360.0, 450.0]\n"
          ]
        }
      ]
    },
    {
      "cell_type": "markdown",
      "source": [
        "Ejercicio 4\n",
        "\n",
        "Contar cuántos productos tienen un precio mayor a 100."
      ],
      "metadata": {
        "id": "LLFjbn2KjDvf"
      }
    },
    {
      "cell_type": "code",
      "source": [
        "contador = 0\n",
        "for i in range(len(precios)):\n",
        "  if precios[i] > 100:\n",
        "    contador += 1\n",
        "    print(precios[i])\n",
        "print(f\"Existen {contador} productos con precio mayor a 100\")"
      ],
      "metadata": {
        "colab": {
          "base_uri": "https://localhost:8080/"
        },
        "id": "gwm1N5P5jjpE",
        "outputId": "1ec7213f-94b6-4ce7-b836-d8a4dc53239f"
      },
      "execution_count": null,
      "outputs": [
        {
          "output_type": "stream",
          "name": "stdout",
          "text": [
            "180.0\n",
            "270.0\n",
            "360.0\n",
            "450.0\n",
            "Existen 4 productos con precio mayor a 100\n"
          ]
        }
      ]
    },
    {
      "cell_type": "markdown",
      "source": [
        "Ejercicio 5\n",
        "\n",
        "Recorrer campañas de marketing y mostrar su nombre."
      ],
      "metadata": {
        "id": "Sx866gLnjGL3"
      }
    },
    {
      "cell_type": "code",
      "source": [
        "campaigns = [\"Dia de la mujer\", \"Dia de la madre\", \"Dia del padre\"]\n",
        "\n",
        "for i in campaigns:\n",
        "  print(i)"
      ],
      "metadata": {
        "colab": {
          "base_uri": "https://localhost:8080/"
        },
        "id": "FR9TVV_9lw7-",
        "outputId": "00a89fd4-99d5-47a9-de73-13646497939f"
      },
      "execution_count": null,
      "outputs": [
        {
          "output_type": "stream",
          "name": "stdout",
          "text": [
            "Dia de la mujer\n",
            "Dia de la madre\n",
            "Dia del padre\n"
          ]
        }
      ]
    },
    {
      "cell_type": "markdown",
      "source": [
        "Ejercicio 6\n",
        "\n",
        "Recorrer un diccionario de clientes con saldo y mostrar solo los que tengan saldo > 2000."
      ],
      "metadata": {
        "id": "QahT6s0IjIOv"
      }
    },
    {
      "cell_type": "code",
      "source": [
        "clientes = {\n",
        "    \"001\": {\"nombre\": \"Carlos\", \"saldo\": 4000},\n",
        "    \"002\": {\"nombre\": \"Juan\", \"saldo\": 1000},\n",
        "    \"003\": {\"nombre\": \"Maria\", \"saldo\": 1500},\n",
        "    \"004\": {\"nombre\": \"Juana\", \"saldo\": 3000}\n",
        "}\n",
        "\n",
        "for i in clientes:\n",
        "  if clientes[i][\"saldo\"] > 2000:\n",
        "    print(clientes[i][\"nombre\"])"
      ],
      "metadata": {
        "colab": {
          "base_uri": "https://localhost:8080/"
        },
        "id": "vWQHioWtpOoP",
        "outputId": "6270f10a-625a-433f-bb92-c89408142312"
      },
      "execution_count": null,
      "outputs": [
        {
          "output_type": "stream",
          "name": "stdout",
          "text": [
            "Carlos\n",
            "Juana\n"
          ]
        }
      ]
    },
    {
      "cell_type": "markdown",
      "source": [
        "Ejercicio 7\n",
        "\n",
        "Recorrer una lista de emails de clientes y contar los que terminan en \"@gmail.com\"."
      ],
      "metadata": {
        "id": "2rTlLwQ_jL5s"
      }
    },
    {
      "cell_type": "code",
      "source": [
        "emails = [\"abc@gmail.com\",\"def@hotmail.com\",\"ghi@outlook.com\",\"jaime@gmail.com\"]\n",
        "contador = 0\n",
        "for i in emails:\n",
        "  if i.endswith(\"@gmail.com\"):\n",
        "    contador += 1\n",
        "print(f\"Existen {contador} emails con dominio @gmail.com\")\n"
      ],
      "metadata": {
        "colab": {
          "base_uri": "https://localhost:8080/"
        },
        "id": "zqbwThtNqKCI",
        "outputId": "1282934a-e045-4e2a-c5a5-87b7fbf35a49"
      },
      "execution_count": null,
      "outputs": [
        {
          "output_type": "stream",
          "name": "stdout",
          "text": [
            "Existen 2 emails con dominio @gmail.com\n"
          ]
        }
      ]
    },
    {
      "cell_type": "markdown",
      "source": [
        "# Mini Proyecto\n",
        "\n",
        "\"Evaluador de Clientes Hipotecarios\""
      ],
      "metadata": {
        "id": "FMUBc06ojTaq"
      }
    },
    {
      "cell_type": "markdown",
      "source": [
        "Contexto:\n",
        "Un banco quiere evaluar a sus clientes para ofrecerles un nuevo crédito hipotecario.\n",
        "Cada cliente tiene datos como: nombre, ingreso mensual, deudas actuales y número de productos contratados.\n",
        "\n",
        "Objetivo:\n",
        "1. Crear la base de datos de clientes usando un diccionario.\n",
        "2. Usar for para recorrer todos los clientes.\n",
        "3. Aplicar condicionales para clasificar:\n",
        "   - \"Elegible\" si su ingreso anual es mayor a 36,000 soles, sus deudas son menores a 15,000 soles y tiene al menos 2 productos contratados.\n",
        "   - \"Requiere Evaluación\" si cumple solo algunas condiciones.\n",
        "   - \"No Elegible\" si no cumple ninguna condición.\n",
        "4. Mostrar el resultado bien formateado por cliente."
      ],
      "metadata": {
        "id": "UawN6JC7jXAE"
      }
    },
    {
      "cell_type": "markdown",
      "source": [
        "Instrucciones\n",
        "\n",
        "1. Crea un diccionario llamado clientes con al menos 5 clientes.\n",
        "2. Cada cliente tendrá:\n",
        "   - Nombre (str)\n",
        "   - Ingreso mensual (float)\n",
        "   - Deudas (float)\n",
        "   - Número de productos contratados (int)\n",
        "3. Calcula el ingreso anual (ingreso mensual × 12).\n",
        "4. Usa un for para recorrer cada cliente.\n",
        "5. Usa if, elif, else para clasificarlo en una de las tres categorías.\n",
        "6. Muestra en pantalla: Cliente: {nombre} - Resultado: {clasificación}"
      ],
      "metadata": {
        "id": "cO8ajcixjnWX"
      }
    },
    {
      "cell_type": "code",
      "source": [
        "clientes = {\n",
        "    \"001\": {\"nombre\": \"Carlos\", \"ingreso\": 4000.00, \"deudas\": 2293.00, \"productos\": 2},\n",
        "    \"002\": {\"nombre\": \"Juan\", \"ingreso\": 1000.00, \"deudas\": 1000.00, \"productos\": 1},\n",
        "    \"003\": {\"nombre\": \"Maria\", \"ingreso\": 1500.00, \"deudas\": 1500.00, \"productos\": 3},\n",
        "    \"004\": {\"nombre\": \"Juana\", \"ingreso\": 3000.00, \"deudas\": 3000.00, \"productos\": 4},\n",
        "    \"005\": {\"nombre\": \"Jaime\", \"ingreso\": 5000.00, \"deudas\": 5000.00, \"productos\": 5}\n",
        "}\n",
        "\n",
        "for i in clientes:\n",
        "  if (clientes[i][\"ingreso\"] * 12 > 36000) and (clientes[i][\"deudas\"] < 15000) and (clientes[i][\"productos\"] >= 2):\n",
        "    print(f\"Cliente: {clientes[i]['nombre']} - Resultado: Elegible\")\n",
        "  elif (clientes[i][\"ingreso\"] * 12 > 36000) or (clientes[i][\"deudas\"] < 15000) or (clientes[i][\"productos\"] >= 2):\n",
        "    print(f\"Cliente: {clientes[i]['nombre']} - Resultado: Requiere Evaluación\")\n",
        "  else:\n",
        "    print(f\"Cliente: {clientes[i]['nombre']} - Resultado: No Elegible\")\n"
      ],
      "metadata": {
        "colab": {
          "base_uri": "https://localhost:8080/"
        },
        "id": "eRilSXsyqw78",
        "outputId": "65d53477-760c-48c8-b2e3-8897658aea4e"
      },
      "execution_count": null,
      "outputs": [
        {
          "output_type": "stream",
          "name": "stdout",
          "text": [
            "Cliente: Carlos - Resultado: Elegible\n",
            "Cliente: Juan - Resultado: Requiere Evaluación\n",
            "Cliente: Maria - Resultado: Requiere Evaluación\n",
            "Cliente: Juana - Resultado: Requiere Evaluación\n",
            "Cliente: Jaime - Resultado: Elegible\n"
          ]
        }
      ]
    },
    {
      "cell_type": "markdown",
      "source": [
        "# 🔥 Nivel extra:\n",
        "\n",
        "1. Ingresa manualmente los clientes (input).\n",
        "2. Calcula la diferencia absoluta (abs) entre ingreso anual y deudas.\n",
        "3. Redondea (round) el ingreso anual al número entero más cercano."
      ],
      "metadata": {
        "id": "5ZCQkJxkkDGj"
      }
    },
    {
      "cell_type": "code",
      "source": [
        "\n",
        "for i in len(clientes):\n",
        "  nombre = input(\"Ingrese el nombre del cliente: \")\n",
        "  ingreso = float(input(\"Ingrese el ingreso mensual del cliente: \"))\n",
        "  deudas = float(input(\"Ingrese las deudas del cliente: \"))\n",
        "  productos = int(input(\"Ingrese el número de productos contratados del cliente: \"))\n",
        "  ingreso_anual = ingreso * 12\n",
        "  deudas_abs = abs(ingreso_anual - deudas)\n",
        "  ingreso_redondeado = round(ingreso_anual, 0)\n",
        "\n",
        "  clientes[i][\"nombre\"] = nombre\n",
        "  clientes[i][\"ingreso\"] = ingreso\n",
        "  clientes[i][\"deudas\"] = deudas\n",
        "  clientes[i][\"productos\"] = productos\n",
        "  clientes[i][\"deuda absoluta\"] = deudas_abs\n",
        "  clientes[i][\"ingreso redondeado\"] = ingreso_redondeado\n"
      ],
      "metadata": {
        "colab": {
          "base_uri": "https://localhost:8080/",
          "height": 211
        },
        "id": "P3fqYrorsZfW",
        "outputId": "20ada1a7-ada8-46da-bba9-d4a64480650d"
      },
      "execution_count": null,
      "outputs": [
        {
          "output_type": "error",
          "ename": "TypeError",
          "evalue": "'int' object is not iterable",
          "traceback": [
            "\u001b[0;31m---------------------------------------------------------------------------\u001b[0m",
            "\u001b[0;31mTypeError\u001b[0m                                 Traceback (most recent call last)",
            "\u001b[0;32m<ipython-input-75-7fcc2057797f>\u001b[0m in \u001b[0;36m<cell line: 0>\u001b[0;34m()\u001b[0m\n\u001b[0;32m----> 1\u001b[0;31m \u001b[0;32mfor\u001b[0m \u001b[0mi\u001b[0m \u001b[0;32min\u001b[0m \u001b[0mlen\u001b[0m\u001b[0;34m(\u001b[0m\u001b[0mclientes\u001b[0m\u001b[0;34m)\u001b[0m\u001b[0;34m:\u001b[0m\u001b[0;34m\u001b[0m\u001b[0;34m\u001b[0m\u001b[0m\n\u001b[0m\u001b[1;32m      2\u001b[0m   \u001b[0mnombre\u001b[0m \u001b[0;34m=\u001b[0m \u001b[0minput\u001b[0m\u001b[0;34m(\u001b[0m\u001b[0;34m\"Ingrese el nombre del cliente: \"\u001b[0m\u001b[0;34m)\u001b[0m\u001b[0;34m\u001b[0m\u001b[0;34m\u001b[0m\u001b[0m\n\u001b[1;32m      3\u001b[0m   \u001b[0mingreso\u001b[0m \u001b[0;34m=\u001b[0m \u001b[0mfloat\u001b[0m\u001b[0;34m(\u001b[0m\u001b[0minput\u001b[0m\u001b[0;34m(\u001b[0m\u001b[0;34m\"Ingrese el ingreso mensual del cliente: \"\u001b[0m\u001b[0;34m)\u001b[0m\u001b[0;34m)\u001b[0m\u001b[0;34m\u001b[0m\u001b[0;34m\u001b[0m\u001b[0m\n\u001b[1;32m      4\u001b[0m   \u001b[0mdeudas\u001b[0m \u001b[0;34m=\u001b[0m \u001b[0mfloat\u001b[0m\u001b[0;34m(\u001b[0m\u001b[0minput\u001b[0m\u001b[0;34m(\u001b[0m\u001b[0;34m\"Ingrese las deudas del cliente: \"\u001b[0m\u001b[0;34m)\u001b[0m\u001b[0;34m)\u001b[0m\u001b[0;34m\u001b[0m\u001b[0;34m\u001b[0m\u001b[0m\n\u001b[1;32m      5\u001b[0m   \u001b[0mproductos\u001b[0m \u001b[0;34m=\u001b[0m \u001b[0mint\u001b[0m\u001b[0;34m(\u001b[0m\u001b[0minput\u001b[0m\u001b[0;34m(\u001b[0m\u001b[0;34m\"Ingrese el número de productos contratados del cliente: \"\u001b[0m\u001b[0;34m)\u001b[0m\u001b[0;34m)\u001b[0m\u001b[0;34m\u001b[0m\u001b[0;34m\u001b[0m\u001b[0m\n",
            "\u001b[0;31mTypeError\u001b[0m: 'int' object is not iterable"
          ]
        }
      ]
    }
  ]
}