{
  "nbformat": 4,
  "nbformat_minor": 0,
  "metadata": {
    "colab": {
      "provenance": [],
      "include_colab_link": true
    },
    "kernelspec": {
      "name": "python3",
      "display_name": "Python 3"
    },
    "language_info": {
      "name": "python"
    }
  },
  "cells": [
    {
      "cell_type": "markdown",
      "metadata": {
        "id": "view-in-github",
        "colab_type": "text"
      },
      "source": [
        "<a href=\"https://colab.research.google.com/github/cloyola/python-utec/blob/main/ejercicios/clase03_Estructuras_Condicionales.ipynb\" target=\"_parent\"><img src=\"https://colab.research.google.com/assets/colab-badge.svg\" alt=\"Open In Colab\"/></a>"
      ]
    },
    {
      "cell_type": "markdown",
      "source": [
        "<img src=\"https://posgrado.utec.edu.pe/sites/default/files/2023-08/Testimonial-home-2.jpg\" alt=\"HTML5 Icon\" width=\"900\" height=\"250\" >\n"
      ],
      "metadata": {
        "id": "biGuvFhNgJci"
      }
    },
    {
      "cell_type": "markdown",
      "source": [
        "# **Ejercicios - Estructuras Condicionales**"
      ],
      "metadata": {
        "id": "XHmAps3dgL55"
      }
    },
    {
      "cell_type": "markdown",
      "source": [
        "**Ejercicio 1:**\n",
        "\n",
        "Solicita un número al usuario y determina si es positivo, negativo o cero."
      ],
      "metadata": {
        "id": "VtGN4U_c67JX"
      }
    },
    {
      "cell_type": "code",
      "execution_count": 1,
      "metadata": {
        "id": "gFFv7u0r6xpc",
        "colab": {
          "base_uri": "https://localhost:8080/"
        },
        "outputId": "0cbbe8ef-a0ba-4c70-eef2-87f77d929f34"
      },
      "outputs": [
        {
          "output_type": "stream",
          "name": "stdout",
          "text": [
            "Ingrese un número: -100\n",
            "El número es negativo.\n"
          ]
        }
      ],
      "source": [
        "## INICIO DE CÓDIGO\n",
        "number = int(input(\"Ingrese un número: \"))\n",
        "\n",
        "if number > 0:\n",
        "    print(\"El número es positivo.\")\n",
        "elif number < 0:\n",
        "    print(\"El número es negativo.\")\n",
        "else:\n",
        "    print(\"El número es cero.\")\n",
        "\n",
        "## FIN DE CÓDIGO"
      ]
    },
    {
      "cell_type": "markdown",
      "source": [
        "**Ejercicio 2:**\n",
        "\n",
        "Pide una contraseña y verifica si coincide con una contraseña guardada.\n"
      ],
      "metadata": {
        "id": "ARnpMbmOgzcw"
      }
    },
    {
      "cell_type": "code",
      "source": [
        "## INICIO DE CÓDIGO\n",
        "password = input(\"Ingrese la contraseña: \")\n",
        "\n",
        "if password == \"123456\":\n",
        "    print(\"Contraseña válida\")\n",
        "else:\n",
        "    print(\"Contraseña incorrecta\")\n",
        "\n",
        "## FIN DE CÓDIGO"
      ],
      "metadata": {
        "id": "ONIZJ8EygwmV",
        "colab": {
          "base_uri": "https://localhost:8080/"
        },
        "outputId": "24891011-46e4-428c-e600-c0fac4dd8886"
      },
      "execution_count": 3,
      "outputs": [
        {
          "output_type": "stream",
          "name": "stdout",
          "text": [
            "Ingrese la contraseña: 41424\n",
            "Contraseña incorrecta\n"
          ]
        }
      ]
    },
    {
      "cell_type": "markdown",
      "source": [
        "**Ejercicio 3:**\n",
        "\n",
        "Pide tres números y muestra cuál es el mayor.\n"
      ],
      "metadata": {
        "id": "m_Zjto9bgz3K"
      }
    },
    {
      "cell_type": "code",
      "source": [
        "## INICIO DE CÓDIGO\n",
        "number1 = int(input(\"Ingrese el primer número: \"))\n",
        "number2 = int(input(\"Ingrese el segundo número: \"))\n",
        "number3 = int(input(\"Ingrese el tercer número: \"))\n",
        "numbers = [number1, number2, number3]\n",
        "print(f\"El número mayor es: {max(numbers)}\")\n",
        "\n",
        "## FIN DE CÓDIGO"
      ],
      "metadata": {
        "id": "yyuzVc-1gxAu",
        "colab": {
          "base_uri": "https://localhost:8080/"
        },
        "outputId": "1eeb3a5c-9664-4748-c715-075fe2548919"
      },
      "execution_count": 11,
      "outputs": [
        {
          "output_type": "stream",
          "name": "stdout",
          "text": [
            "Ingrese el primer número: 100\n",
            "Ingrese el segundo número: 100\n",
            "Ingrese el tercer número: 20\n",
            "El número mayor es: 100\n"
          ]
        }
      ]
    },
    {
      "cell_type": "markdown",
      "source": [
        "**Ejercicio 4:**\n",
        "\n",
        "Simula el ingreso a un concierto: edad mínima 18, entrada pagada.\n"
      ],
      "metadata": {
        "id": "NyBNtR1Dg0R_"
      }
    },
    {
      "cell_type": "code",
      "source": [
        "## INICIO DE CÓDIGO\n",
        "age = int(input(\"Ingrese su edad: \"))\n",
        "ticket = input(\"¿Tiene entrada pagada? (s/n): \")\n",
        "\n",
        "if (age >= 18)  and (ticket.lower() == \"s\"):\n",
        "    print(\"Acceso permitido\")\n",
        "else:\n",
        "    print(\"Acceso denegado\")\n",
        "## FIN DE CÓDIGO"
      ],
      "metadata": {
        "id": "WvL1Xxhggxhj",
        "colab": {
          "base_uri": "https://localhost:8080/"
        },
        "outputId": "0d3778e1-6e12-48c9-b6d3-f70c14d571c9"
      },
      "execution_count": 14,
      "outputs": [
        {
          "output_type": "stream",
          "name": "stdout",
          "text": [
            "Ingrese su edad: 18\n",
            "¿Tiene entrada pagada? (s/n): s\n",
            "Acceso permitido\n"
          ]
        }
      ]
    },
    {
      "cell_type": "markdown",
      "source": [
        "**Ejercicio 5:**\n",
        "\n",
        "Verifica si un usuario tiene permisos según su rol: admin, editor o lector.\n"
      ],
      "metadata": {
        "id": "iMEJ1vhuhG--"
      }
    },
    {
      "cell_type": "code",
      "source": [
        "## INICIO DE CÓDIGO\n",
        "permission = input(\"Ingrese su rol (admin, editor, lector): \")\n",
        "\n",
        "if permission.lower() == \"admin\":\n",
        "    print(\"Acceso de administrados\")\n",
        "elif permission.lower() == \"editor\":\n",
        "    print(\"Acceso para edición\")\n",
        "else :\n",
        "    print(\"Acceso de lectura\")\n",
        "\n",
        "## FIN DE CÓDIGO"
      ],
      "metadata": {
        "id": "AtlFBl9xgx4t",
        "colab": {
          "base_uri": "https://localhost:8080/"
        },
        "outputId": "a3214ff7-f848-43be-eccf-087d3ac4d97c"
      },
      "execution_count": 18,
      "outputs": [
        {
          "output_type": "stream",
          "name": "stdout",
          "text": [
            "Ingrese su rol (admin, editor, lector): admin\n",
            "Acceso permitido\n"
          ]
        }
      ]
    },
    {
      "cell_type": "markdown",
      "source": [
        "**Ejercicio 6:**\n",
        "\n",
        "Pide el nombre de una fruta y verifica si está en una lista de disponibles.\n"
      ],
      "metadata": {
        "id": "wx61pwdchJIr"
      }
    },
    {
      "cell_type": "code",
      "source": [
        "## INICIO DE CÓDIGO\n",
        "fruit = input(\"Ingrese el nombre de una fruta: \")\n",
        "fruits = [\"manzana\", \"banana\", \"cereza\", \"durazno\"]\n",
        "\n",
        "if fruit.lower() in fruits:\n",
        "    print(f\"La fruta {fruit} está disponible\")\n",
        "else:\n",
        "    print(f\"La fruta {fruit} no está disponible\")\n",
        "## FIN DE CÓDIGO"
      ],
      "metadata": {
        "id": "dM1dhvOQgyQj",
        "colab": {
          "base_uri": "https://localhost:8080/"
        },
        "outputId": "99dc00b0-8536-478c-9e6e-a5766651660b"
      },
      "execution_count": 17,
      "outputs": [
        {
          "output_type": "stream",
          "name": "stdout",
          "text": [
            "Ingrese el nombre de una fruta: manzan\n",
            "La fruta manzan no está disponible\n"
          ]
        }
      ]
    },
    {
      "cell_type": "markdown",
      "source": [
        "**Ejercicio 7:**\n",
        "\n",
        "Clasifica una temperatura ingresada por el usuario: frío (<15), templado (15–25), calor (>25).\n"
      ],
      "metadata": {
        "id": "B3FkjCzjhKt0"
      }
    },
    {
      "cell_type": "code",
      "source": [
        "## INICIO DE CÓDIGO\n",
        "temp = float(input(\"Ingrese la temperatura: \"))\n",
        "\n",
        "if temp < 15:\n",
        "    print(\"Frio\")\n",
        "elif temp >= 15 and temp <= 25:\n",
        "    print(\"Templado\")\n",
        "else:\n",
        "    print(\"Calor\")\n",
        "## FIN DE CÓDIGO"
      ],
      "metadata": {
        "id": "6hgJF-HegymO",
        "colab": {
          "base_uri": "https://localhost:8080/"
        },
        "outputId": "764d2ee0-3aff-459f-a61a-7230debd7810"
      },
      "execution_count": 20,
      "outputs": [
        {
          "output_type": "stream",
          "name": "stdout",
          "text": [
            "Ingrese la temperatura: 14.5\n",
            "Frio\n"
          ]
        }
      ]
    },
    {
      "cell_type": "markdown",
      "source": [
        "**Ejercicio 8:**\n",
        "\n",
        "Pide el nombre de usuario y saluda de forma especial si es \"invitado\" o \"admin\"."
      ],
      "metadata": {
        "id": "v_G0soOGhMEm"
      }
    },
    {
      "cell_type": "code",
      "source": [
        "## INICIO DE CÓDIGO\n",
        "user  = input(\"Ingrese su nombre de usuario: \")\n",
        "\n",
        "if user.lower() == \"invitado\":\n",
        "    print(\"Bienvenido invitado\")\n",
        "elif user.lower() == \"admin\":\n",
        "    print(\"Bienvenido administrador\")\n",
        "else:\n",
        "    print(f\"Bienvenido {user}\")\n",
        "## FIN DE CÓDIGO"
      ],
      "metadata": {
        "id": "Tt_Fz8tlhMes",
        "colab": {
          "base_uri": "https://localhost:8080/"
        },
        "outputId": "3758cfd8-1293-4803-c149-c697f530d2a0"
      },
      "execution_count": 23,
      "outputs": [
        {
          "output_type": "stream",
          "name": "stdout",
          "text": [
            "Ingrese su nombre de usuario: admin\n",
            "Bienvenido administrador\n"
          ]
        }
      ]
    },
    {
      "cell_type": "markdown",
      "source": [
        "---\n",
        "\n",
        "# Gracias por completar este laboratorio!\n",
        "\n",
        "---\n"
      ],
      "metadata": {
        "id": "GL6sdU0FhPu-"
      }
    }
  ]
}