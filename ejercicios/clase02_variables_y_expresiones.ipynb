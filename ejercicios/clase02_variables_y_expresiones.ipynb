{
  "nbformat": 4,
  "nbformat_minor": 0,
  "metadata": {
    "colab": {
      "provenance": [],
      "include_colab_link": true
    },
    "kernelspec": {
      "name": "python3",
      "display_name": "Python 3"
    },
    "language_info": {
      "name": "python"
    }
  },
  "cells": [
    {
      "cell_type": "markdown",
      "metadata": {
        "id": "view-in-github",
        "colab_type": "text"
      },
      "source": [
        "<a href=\"https://colab.research.google.com/github/cloyola/python-utec/blob/main/ejercicios/clase02_variables_y_expresiones.ipynb\" target=\"_parent\"><img src=\"https://colab.research.google.com/assets/colab-badge.svg\" alt=\"Open In Colab\"/></a>"
      ]
    },
    {
      "cell_type": "markdown",
      "source": [
        "<img src=\"https://posgrado.utec.edu.pe/sites/default/files/2023-08/Testimonial-home-2.jpg\" alt=\"HTML5 Icon\" width=\"900\" height=\"250\" >\n"
      ],
      "metadata": {
        "id": "cqadFmlrgAXp"
      }
    },
    {
      "cell_type": "markdown",
      "source": [
        "# **Ejercicios - Variables y Expresiones**"
      ],
      "metadata": {
        "id": "tW1-ULBmb0Cm"
      }
    },
    {
      "cell_type": "markdown",
      "source": [
        "**Ejercicio 1: Calculadora de ahorro semanal**\n",
        "\n",
        "Pide al usuario cuánto dinero ahorra cada día de lunes a domingo. Al final, muestra cuánto ahorró en total esa semana y cuánto tendría en un mes si repite el mismo patrón cada semana.\n",
        "\n",
        "- Pista: Usar 7 variables (ahorro_lunes, ahorro_martes, …), input(), float(), +, *."
      ],
      "metadata": {
        "id": "9igzfvIKqNGr"
      }
    },
    {
      "cell_type": "code",
      "source": [
        "## INICIO DE CÓDIGO\n",
        "ahorro_lunes = float(input(\"Ingrese el monto ahorrado en lunes: \"))\n",
        "ahorro_martes = float(input(\"Ingrese el monto ahorrado en martes: \"))\n",
        "ahorro_miercoles = float(input(\"Ingrese el monto ahorrado en miercoles: \"))\n",
        "ahorro_jueves = float(input(\"Ingrese el monto ahorrado en jueves: \"))\n",
        "ahorro_viernes = float(input(\"Ingrese el monto ahorrado en viernes: \"))\n",
        "ahorro_sabado = float(input(\"Ingrese el monto ahorrado en sabado: \"))\n",
        "ahorro_domingo = float(input(\"Ingrese el monto ahorrado en domingo: \"))\n",
        "\n",
        "ahorro_total = ahorro_lunes + ahorro_martes + ahorro_miercoles + ahorro_jueves + ahorro_viernes + ahorro_sabado + ahorro_domingo\n",
        "ahorro_mensual = ahorro_total * 4.5\n",
        "\n",
        "print(\"El total ahorrado en la semana es:\", ahorro_total)\n",
        "print(\"El total ahorrado en un mes será:\", ahorro_mensual)\n",
        "\n",
        "## FIN DE CÓDIGO"
      ],
      "metadata": {
        "id": "BX-O1-4wqWF9",
        "outputId": "0404d736-c6ce-47ba-ea3e-852784b945b5",
        "colab": {
          "base_uri": "https://localhost:8080/"
        }
      },
      "execution_count": 2,
      "outputs": [
        {
          "output_type": "stream",
          "name": "stdout",
          "text": [
            "Ingrese el monto ahorrado en lunes: 10\n",
            "Ingrese el monto ahorrado en martes: 10\n",
            "Ingrese el monto ahorrado en miercoles: 10\n",
            "Ingrese el monto ahorrado en jueves: 10\n",
            "Ingrese el monto ahorrado en viernes: 10\n",
            "Ingrese el monto ahorrado en sabado: 10\n",
            "Ingrese el monto ahorrado en domingo: 10\n",
            "El total ahorrado en la semana es: 70.0\n",
            "El total ahorrado en un mes será: 315.0\n"
          ]
        }
      ]
    },
    {
      "cell_type": "markdown",
      "source": [
        "**Ejercicio 2: Conversor de segundos**\n",
        "\n",
        "Solicita una cantidad total de segundos y muestra cuántos minutos y segundos representa.\n",
        "\n",
        "Ejemplo: 130 segundos → 2 minutos y 10 segundos\n",
        "* Pista: Usar // y %\n"
      ],
      "metadata": {
        "id": "oLaw6UggqV3E"
      }
    },
    {
      "cell_type": "code",
      "source": [
        "## INICIO DE CÓDIGO\n",
        "seconds = int(input(\"Ingrese la cantidad de segundos: \"))\n",
        "minutes = seconds // 60\n",
        "seconds_left = seconds % 60\n",
        "print(seconds, \"segundos son\", minutes, \"minutos y\", seconds_left, \"segundos.\")\n",
        "\n",
        "## FIN DE CÓDIGO"
      ],
      "metadata": {
        "id": "bAuxBROrqaWb",
        "outputId": "2932e998-d411-4f1c-f3a4-92664cef8f7c",
        "colab": {
          "base_uri": "https://localhost:8080/"
        }
      },
      "execution_count": 4,
      "outputs": [
        {
          "output_type": "stream",
          "name": "stdout",
          "text": [
            "Ingrese la cantidad de segundos: 145\n",
            "145 segundos son 2 minutos y 25 segundos.\n"
          ]
        }
      ]
    },
    {
      "cell_type": "markdown",
      "source": [
        "**Ejercicio 3: Puntuación de juego**\n",
        "\n",
        "Un videojuego otorga:\n",
        "\n",
        "* 10 puntos por cada estrella recolectada,\n",
        "* 50 puntos por cada gema recolectada, y\n",
        "* 1 punto por cada segundo que el jugador se mantuvo vivo.\n",
        "\n",
        "Pide al usuario las tres cantidades y muestra su puntaje total.\n",
        "\n",
        "* Pista: total = estrellas*10 + gemas*50 + tiempo"
      ],
      "metadata": {
        "id": "dK4EIGoKrW2B"
      }
    },
    {
      "cell_type": "code",
      "source": [
        "## INICIO DE CÓDIGO\n",
        "stars = int(input(\"Ingrese la cantidad de estrellas recolectadas: \"))\n",
        "gems = int(input(\"Ingrese la cantidad de gemas recolectadas: \"))\n",
        "time = int(input(\"Ingrese la cantidad de segundos que el jugador se mantuvo vivo: \"))\n",
        "\n",
        "score = stars * 10 + gems * 50 + time * 1\n",
        "print(f\"El puntaje total del jugador es: {score}\")\n",
        "\n",
        "## FIN DE CÓDIGO"
      ],
      "metadata": {
        "id": "jkBQHQF1rlUY",
        "outputId": "0849bae1-8334-4830-d163-701bbfffebb2",
        "colab": {
          "base_uri": "https://localhost:8080/"
        }
      },
      "execution_count": 5,
      "outputs": [
        {
          "output_type": "stream",
          "name": "stdout",
          "text": [
            "Ingrese la cantidad de estrellas recolectadas: 2\n",
            "Ingrese la cantidad de gemas recolectadas: 3\n",
            "Ingrese la cantidad de segundos que el jugador se mantuvo vivo: 20\n",
            "El puntaje total del jugador es: 190\n"
          ]
        }
      ]
    },
    {
      "cell_type": "markdown",
      "source": [
        "**Ejercicio 4: Conversor de monedas con tasa personalizada**\n",
        "\n",
        "Solicita al usuario:\n",
        "\n",
        "* El monto en soles\n",
        "* La tasa de cambio a dólares\n",
        "\n",
        "Muestra el equivalente en dólares, redondeado a 2 decimales.\n",
        "\n",
        "* Pista: Usar float(), *, round(valor, 2)"
      ],
      "metadata": {
        "id": "wW9Edl_8rlt1"
      }
    },
    {
      "cell_type": "code",
      "source": [
        "## INICIO DE CÓDIGO\n",
        "amount_pen = float(input(\"Ingrese el monto en soles: \"))\n",
        "exchange_rate = float(input(\"Ingrese la tasa de cambio a dólares: \"))\n",
        "\n",
        "amount_usd = round(amount_pen / exchange_rate, 2)\n",
        "print(f\"El equivalente en dólares es: {amount_usd}\")\n",
        "## FIN DE CÓDIGO"
      ],
      "metadata": {
        "id": "fTCsCohHrmQW",
        "outputId": "fd03dcab-2126-4b7d-9f10-76d3c9e552b8",
        "colab": {
          "base_uri": "https://localhost:8080/"
        }
      },
      "execution_count": 6,
      "outputs": [
        {
          "output_type": "stream",
          "name": "stdout",
          "text": [
            "Ingrese el monto en soles: 1000\n",
            "Ingrese la tasa de cambio a dólares: 3.65\n",
            "El equivalente en dólares es: 273.97\n"
          ]
        }
      ]
    },
    {
      "cell_type": "markdown",
      "source": [
        "**Ejercicio 5: Costo compartido de viaje**\n",
        "\n",
        "Tres amigos hacen un viaje y pagan distintos montos:\n",
        "\n",
        "* Ana pagó gasolina,\n",
        "* Luis pagó peajes,\n",
        "* Carla pagó comida.\n",
        "\n",
        "Pide los tres montos, calcula el total y cuánto debería aportar cada uno para que paguen igual.\n",
        "\n",
        "* Pista: Calcular el total y luego dividirlo entre 3"
      ],
      "metadata": {
        "id": "JYUyJAidrmnT"
      }
    },
    {
      "cell_type": "code",
      "source": [
        "## INICIO DE CÓDIGO\n",
        "spent_ana = float(input(\"Ingrese el monto pagado por Ana: \")) #gasolina\n",
        "spent_luis = float(input(\"Ingrese el monto pagado por Luis: \")) #peajes\n",
        "spent_carla = float(input(\"Ingrese el monto pagado por Carla: \")) #comida\n",
        "\n",
        "total = spent_ana + spent_luis + spent_carla\n",
        "share = round(total / 3, 2)\n",
        "\n",
        "print(f\"El total a pagar es: {total}\")\n",
        "print(f\"Cada uno debe aportar: {share}\")\n",
        "\n",
        "left_ana = share - spent_ana\n",
        "if left_ana > 0:\n",
        "  print(f\"Ana debe pagar: {left_ana}\")\n",
        "else:\n",
        "  print(f\"Ana debe recibir {abs(left_ana)}\")\n",
        "\n",
        "left_luis = share - spent_luis\n",
        "if left_luis > 0:\n",
        "  print(f\"Luis debe pagar: {left_luis}\")\n",
        "else:\n",
        "  print(f\"Ana debe recibir {abs(left_luis)}\")\n",
        "\n",
        "left_carla = share - spent_carla\n",
        "if left_carla > 0:\n",
        "  print(f\"Carla debe pagar: {left_carla}\")\n",
        "else:\n",
        "  print(f\"Ana debe recibir {abs(left_carla)}\")\n",
        "\n",
        "## FIN DE CÓDIGO"
      ],
      "metadata": {
        "id": "SGjH-m_mrom9",
        "outputId": "a8a06914-efad-48ab-a2da-7333b61fdf74",
        "colab": {
          "base_uri": "https://localhost:8080/"
        }
      },
      "execution_count": 13,
      "outputs": [
        {
          "output_type": "stream",
          "name": "stdout",
          "text": [
            "Ingrese el monto pagado por Ana: 10\n",
            "Ingrese el monto pagado por Luis: 155\n",
            "Ingrese el monto pagado por Carla: 120\n",
            "El total a pagar es: 285.0\n",
            "Cada uno debe aportar: 95.0\n",
            "Ana debe pagar: 85.0\n",
            "Ana debe recibir 60.0\n",
            "Ana debe recibir 25.0\n"
          ]
        }
      ]
    },
    {
      "cell_type": "markdown",
      "source": [
        "**Ejercicio 6: Tiempo total de estudio**\n",
        "\n",
        "Solicita al usuario cuántas horas estudió en 4 materias distintas.\n",
        "\n",
        "Muestra el total de horas de estudio en la semana y el promedio diario (considerando 7 días).\n"
      ],
      "metadata": {
        "id": "skhBiCaCro5l"
      }
    },
    {
      "cell_type": "code",
      "source": [
        "## INICIO DE CÓDIGO\n",
        "hours_math = float(input(\"Ingrese la cantidad de horas estudiadas en Matemáticas: \"))\n",
        "hours_physics = float(input(\"Ingrese la cantidad de horas estudiadas en Física: \"))\n",
        "hours_chemistry = float(input(\"Ingrese la cantidad de horas estudiadas en Química: \"))\n",
        "hours_biology = float(input(\"Ingrese la cantidad de horas estudiadas en Biología: \"))\n",
        "\n",
        "total_hours = hours_math + hours_physics + hours_chemistry + hours_biology\n",
        "average_daily_hours = total_hours / 7\n",
        "\n",
        "print(f\"El total de horas de estudio en la semana es: {total_hours}\")\n",
        "print(f\"El promedio de horas de estudio diario es: {average_daily_hours}\")\n",
        "## FIN DE CÓDIGO"
      ],
      "metadata": {
        "id": "HnFuV1RPrqXQ",
        "outputId": "50574795-f1cb-4dd8-a542-bfaf2d3541d2",
        "colab": {
          "base_uri": "https://localhost:8080/"
        }
      },
      "execution_count": 14,
      "outputs": [
        {
          "output_type": "stream",
          "name": "stdout",
          "text": [
            "Ingrese la cantidad de horas estudiadas en Matemáticas: 10\n",
            "Ingrese la cantidad de horas estudiadas en Física: 15\n",
            "Ingrese la cantidad de horas estudiadas en Química: 10\n",
            "Ingrese la cantidad de horas estudiadas en Biología: 25\n",
            "El total de horas de estudio en la semana es: 60.0\n",
            "El promedio de horas de estudio diario es: 8.571428571428571\n"
          ]
        }
      ]
    },
    {
      "cell_type": "markdown",
      "source": [
        "**Ejercicio 7: Nombre codificado (nivel string)**\n",
        "\n",
        "Pide al usuario su nombre completo y muestra:\n",
        "\n",
        "* La cantidad de caracteres (con len())\n",
        "* Su nombre todo en mayúsculas (.upper())\n",
        "* Su nombre todo en minúsculas (.lower())\n"
      ],
      "metadata": {
        "id": "rNjtOXKWrqs5"
      }
    },
    {
      "cell_type": "code",
      "source": [
        "## INICIO DE CÓDIGO\n",
        "full_name = input(\"Ingrese su nombre completo: \")\n",
        "\n",
        "print(f\"La cantidad de caracteres es: {len(full_name)}\")\n",
        "print(f\"Su nombre todo en mayúsculas es: {full_name.upper()}\")\n",
        "print(f\"Su nombre todo en minúsculas es: {full_name.lower()}\")\n",
        "## FIN DE CÓDIGO"
      ],
      "metadata": {
        "id": "GnGm74GXrsL0",
        "outputId": "d4f01c4e-2daa-49d1-86c8-4223e09a8fa0",
        "colab": {
          "base_uri": "https://localhost:8080/"
        }
      },
      "execution_count": 16,
      "outputs": [
        {
          "output_type": "stream",
          "name": "stdout",
          "text": [
            "Ingrese su nombre completo: carlos loyola\n",
            "La cantidad de caracteres es: 13\n",
            "Su nombre todo en mayúsculas es: CARLOS LOYOLA\n"
          ]
        }
      ]
    },
    {
      "cell_type": "markdown",
      "source": [
        "**Ejercicio 8: Frase repetida**\n",
        "\n",
        "Pide una frase y un número n, y muestra la frase repetida n veces, cada una en una línea.\n",
        "\n",
        "* Pista: print(frase * n)  # y/o con '\\n'"
      ],
      "metadata": {
        "id": "lrhPyjmWrse2"
      }
    },
    {
      "cell_type": "code",
      "source": [
        "## INICIO DE CÓDIGO\n",
        "phrase = input(\"Ingrese una frase: \")\n",
        "n = int(input(\"Ingrese un número: \"))\n",
        "\n",
        "print(f\"{phrase} \\n\" * n)\n",
        "## FIN DE CÓDIGO"
      ],
      "metadata": {
        "id": "Vzef3t_Lru0p",
        "outputId": "00ad4169-f2df-4be8-a7f6-7c3111acb2fc",
        "colab": {
          "base_uri": "https://localhost:8080/"
        }
      },
      "execution_count": 20,
      "outputs": [
        {
          "output_type": "stream",
          "name": "stdout",
          "text": [
            "Ingrese una frase: hola\n",
            "Ingrese un número: 10\n",
            "hola \n",
            "hola \n",
            "hola \n",
            "hola \n",
            "hola \n",
            "hola \n",
            "hola \n",
            "hola \n",
            "hola \n",
            "hola \n",
            "\n"
          ]
        }
      ]
    },
    {
      "cell_type": "markdown",
      "source": [
        "**Ejercicio 9: División de cuentas**\n",
        "\n",
        "Un grupo de amigos pide una cuenta por S/ 250.\n",
        "Pide al usuario cuántas personas están en el grupo y muestra cuánto debe pagar cada uno.\n",
        "\n",
        "Asegúrate de redondear el resultado a 2 decimales.\n",
        "\n",
        "* Pista: Usa la funcion round()"
      ],
      "metadata": {
        "id": "5NpbbGR_rvNH"
      }
    },
    {
      "cell_type": "code",
      "source": [
        "## INICIO DE CÓDIGO\n",
        "spent = 250\n",
        "members = int(input(\"Ingrese la cantidad de personas en el grupo: \"))\n",
        "\n",
        "amount_per_person = round(spent / members, 2)\n",
        "print(f\"Cada persona debe pagar: {amount_per_person}\")\n",
        "## FIN DE CÓDIGO"
      ],
      "metadata": {
        "id": "uMxuVCUVrvj6",
        "outputId": "a123ba29-2386-4ebb-d59a-9712c571e7d0",
        "colab": {
          "base_uri": "https://localhost:8080/"
        }
      },
      "execution_count": 22,
      "outputs": [
        {
          "output_type": "stream",
          "name": "stdout",
          "text": [
            "Ingrese la cantidad de personas en el grupo: 6\n",
            "Cada persona debe pagar: 41.67\n"
          ]
        }
      ]
    },
    {
      "cell_type": "markdown",
      "source": [
        "**Ejercicio 10: Calendario de clases**\n",
        "\n",
        "Pide cuántas horas se estudia en promedio por día, y cuántos días tiene el mes.\n",
        "\n",
        "Calcula cuántas horas de estudio habrá ese mes."
      ],
      "metadata": {
        "id": "p3PYp0l4pxuI"
      }
    },
    {
      "cell_type": "code",
      "source": [
        "## INICIO DE CÓDIGO\n",
        "daily_hours = float(input(\"Ingrese las horas de estudio en promedio por día: \"))\n",
        "days_in_month = int(input(\"Ingrese el número de días en el mes: \"))\n",
        "\n",
        "total_hours = daily_hours * days_in_month\n",
        "print(f\"El total de horas de estudio en el mes es: {total_hours}\")\n",
        "## FIN DE CÓDIGO"
      ],
      "metadata": {
        "id": "y1bXFffhrxk2",
        "outputId": "84f5fb31-b8ca-4d3f-e804-e1d03cefb744",
        "colab": {
          "base_uri": "https://localhost:8080/"
        }
      },
      "execution_count": 23,
      "outputs": [
        {
          "output_type": "stream",
          "name": "stdout",
          "text": [
            "Ingrese las horas de estudio en promedio por día: 2.5\n",
            "Ingrese el número de días en el mes: 31\n",
            "El total de horas de estudio en el mes es: 77.5\n"
          ]
        }
      ]
    },
    {
      "cell_type": "markdown",
      "source": [
        "---\n",
        "\n",
        "# Gracias por completar este laboratorio!\n",
        "\n",
        "---\n"
      ],
      "metadata": {
        "id": "8_ZocYoOrx3Z"
      }
    }
  ]
}